{
 "cells": [
  {
   "cell_type": "code",
   "execution_count": 17,
   "metadata": {},
   "outputs": [],
   "source": [
    "import pandas as pd"
   ]
  },
  {
   "cell_type": "code",
   "execution_count": 18,
   "metadata": {},
   "outputs": [
    {
     "name": "stdout",
     "output_type": "stream",
     "text": [
      "<class 'pandas.core.frame.DataFrame'>\n",
      "RangeIndex: 42028 entries, 0 to 42027\n",
      "Data columns (total 11 columns):\n",
      " #   Column             Non-Null Count  Dtype \n",
      "---  ------             --------------  ----- \n",
      " 0   review_id          42028 non-null  int64 \n",
      " 1   title              42028 non-null  object\n",
      " 2   content            31772 non-null  object\n",
      " 3   rating             42028 non-null  int64 \n",
      " 4   created_at         42028 non-null  int64 \n",
      " 5   customer_name      41988 non-null  object\n",
      " 6   product_id         42028 non-null  int64 \n",
      " 7   is_verified        42028 non-null  bool  \n",
      " 8   number_of_likes    42028 non-null  int64 \n",
      " 9   number_of_replies  42028 non-null  int64 \n",
      " 10  sentiment          42028 non-null  object\n",
      "dtypes: bool(1), int64(6), object(4)\n",
      "memory usage: 3.2+ MB\n",
      "None\n"
     ]
    }
   ],
   "source": [
    "import pandas as pd\n",
    "import os\n",
    "\n",
    "# Thư mục chứa các file CSV\n",
    "folder_path = \"data\"  # Thay bằng đường dẫn thực tế\n",
    "\n",
    "# Lấy danh sách tất cả các file CSV trong thư mục\n",
    "csv_files = [f for f in os.listdir(folder_path) if f.startswith(\"tiki_reviews\") and f.endswith(\".csv\")]\n",
    "\n",
    "# Đọc và gộp tất cả các file CSV\n",
    "df_list = [pd.read_csv(os.path.join(folder_path, file)) for file in csv_files]\n",
    "\n",
    "# Gộp thành một DataFrame duy nhất\n",
    "df = pd.concat(df_list, ignore_index=True)\n",
    "\n",
    "# Hiển thị thông tin về DataFrame sau khi gộp\n",
    "print(df.info())\n",
    "\n",
    "# Lưu lại file CSV sau khi gộp\n",
    "df.to_csv(os.path.join(folder_path, \"merged_tiki_reviews.csv\"), index=False)\n"
   ]
  },
  {
   "cell_type": "code",
   "execution_count": 19,
   "metadata": {},
   "outputs": [],
   "source": [
    "df = pd.read_csv('data\\merged_tiki_reviews.csv')"
   ]
  },
  {
   "cell_type": "code",
   "execution_count": 20,
   "metadata": {},
   "outputs": [
    {
     "data": {
      "text/html": [
       "<div>\n",
       "<style scoped>\n",
       "    .dataframe tbody tr th:only-of-type {\n",
       "        vertical-align: middle;\n",
       "    }\n",
       "\n",
       "    .dataframe tbody tr th {\n",
       "        vertical-align: top;\n",
       "    }\n",
       "\n",
       "    .dataframe thead th {\n",
       "        text-align: right;\n",
       "    }\n",
       "</style>\n",
       "<table border=\"1\" class=\"dataframe\">\n",
       "  <thead>\n",
       "    <tr style=\"text-align: right;\">\n",
       "      <th></th>\n",
       "      <th>review_id</th>\n",
       "      <th>title</th>\n",
       "      <th>content</th>\n",
       "      <th>rating</th>\n",
       "      <th>created_at</th>\n",
       "      <th>customer_name</th>\n",
       "      <th>product_id</th>\n",
       "      <th>is_verified</th>\n",
       "      <th>number_of_likes</th>\n",
       "      <th>number_of_replies</th>\n",
       "      <th>sentiment</th>\n",
       "    </tr>\n",
       "  </thead>\n",
       "  <tbody>\n",
       "    <tr>\n",
       "      <th>0</th>\n",
       "      <td>17081164</td>\n",
       "      <td>Không hài lòng</td>\n",
       "      <td>Sản phẩm ko phù hợp với giá tiền, chất lượng v...</td>\n",
       "      <td>2</td>\n",
       "      <td>1657895606</td>\n",
       "      <td>Nhan Vo</td>\n",
       "      <td>56889347</td>\n",
       "      <td>False</td>\n",
       "      <td>0</td>\n",
       "      <td>0</td>\n",
       "      <td>negative</td>\n",
       "    </tr>\n",
       "    <tr>\n",
       "      <th>1</th>\n",
       "      <td>19895768</td>\n",
       "      <td>Không hài lòng</td>\n",
       "      <td>Sài được 2 tháng nó khóa máy phải ra trung tâm...</td>\n",
       "      <td>2</td>\n",
       "      <td>1717804644</td>\n",
       "      <td>Nguyễn Thanh Quang</td>\n",
       "      <td>272328188</td>\n",
       "      <td>False</td>\n",
       "      <td>0</td>\n",
       "      <td>0</td>\n",
       "      <td>negative</td>\n",
       "    </tr>\n",
       "    <tr>\n",
       "      <th>2</th>\n",
       "      <td>5445783</td>\n",
       "      <td>Không hài lòng</td>\n",
       "      <td>Mình rate 2 sao vì shipper rất thân thiện.\\nCh...</td>\n",
       "      <td>2</td>\n",
       "      <td>1604336092</td>\n",
       "      <td>Trương Bảo Khánh</td>\n",
       "      <td>23362701</td>\n",
       "      <td>False</td>\n",
       "      <td>0</td>\n",
       "      <td>0</td>\n",
       "      <td>negative</td>\n",
       "    </tr>\n",
       "    <tr>\n",
       "      <th>3</th>\n",
       "      <td>19390511</td>\n",
       "      <td>Rất không hài lòng</td>\n",
       "      <td>Dá quá đắt nghe không hay quá tệ</td>\n",
       "      <td>1</td>\n",
       "      <td>1689700355</td>\n",
       "      <td>Lưu Xuân Tuân</td>\n",
       "      <td>155780905</td>\n",
       "      <td>False</td>\n",
       "      <td>0</td>\n",
       "      <td>0</td>\n",
       "      <td>negative</td>\n",
       "    </tr>\n",
       "    <tr>\n",
       "      <th>4</th>\n",
       "      <td>15466659</td>\n",
       "      <td>Rất không hài lòng</td>\n",
       "      <td>Mua con chuột về kết nối ko được chán vc ***. ...</td>\n",
       "      <td>1</td>\n",
       "      <td>1647506541</td>\n",
       "      <td>Cris Ngo</td>\n",
       "      <td>56606433</td>\n",
       "      <td>False</td>\n",
       "      <td>0</td>\n",
       "      <td>0</td>\n",
       "      <td>negative</td>\n",
       "    </tr>\n",
       "  </tbody>\n",
       "</table>\n",
       "</div>"
      ],
      "text/plain": [
       "   review_id               title  \\\n",
       "0   17081164      Không hài lòng   \n",
       "1   19895768      Không hài lòng   \n",
       "2    5445783      Không hài lòng   \n",
       "3   19390511  Rất không hài lòng   \n",
       "4   15466659  Rất không hài lòng   \n",
       "\n",
       "                                             content  rating  created_at  \\\n",
       "0  Sản phẩm ko phù hợp với giá tiền, chất lượng v...       2  1657895606   \n",
       "1  Sài được 2 tháng nó khóa máy phải ra trung tâm...       2  1717804644   \n",
       "2  Mình rate 2 sao vì shipper rất thân thiện.\\nCh...       2  1604336092   \n",
       "3                   Dá quá đắt nghe không hay quá tệ       1  1689700355   \n",
       "4  Mua con chuột về kết nối ko được chán vc ***. ...       1  1647506541   \n",
       "\n",
       "        customer_name  product_id  is_verified  number_of_likes  \\\n",
       "0             Nhan Vo    56889347        False                0   \n",
       "1  Nguyễn Thanh Quang   272328188        False                0   \n",
       "2    Trương Bảo Khánh    23362701        False                0   \n",
       "3       Lưu Xuân Tuân   155780905        False                0   \n",
       "4            Cris Ngo    56606433        False                0   \n",
       "\n",
       "   number_of_replies sentiment  \n",
       "0                  0  negative  \n",
       "1                  0  negative  \n",
       "2                  0  negative  \n",
       "3                  0  negative  \n",
       "4                  0  negative  "
      ]
     },
     "execution_count": 20,
     "metadata": {},
     "output_type": "execute_result"
    }
   ],
   "source": [
    "df.head()"
   ]
  },
  {
   "cell_type": "code",
   "execution_count": 21,
   "metadata": {},
   "outputs": [
    {
     "data": {
      "text/plain": [
       "(42028, 11)"
      ]
     },
     "execution_count": 21,
     "metadata": {},
     "output_type": "execute_result"
    }
   ],
   "source": [
    "df.shape"
   ]
  },
  {
   "cell_type": "code",
   "execution_count": 22,
   "metadata": {},
   "outputs": [
    {
     "name": "stdout",
     "output_type": "stream",
     "text": [
      "<class 'pandas.core.frame.DataFrame'>\n",
      "Index: 28935 entries, 0 to 42027\n",
      "Data columns (total 11 columns):\n",
      " #   Column             Non-Null Count  Dtype \n",
      "---  ------             --------------  ----- \n",
      " 0   review_id          28935 non-null  int64 \n",
      " 1   title              28935 non-null  object\n",
      " 2   content            20077 non-null  object\n",
      " 3   rating             28935 non-null  int64 \n",
      " 4   created_at         28935 non-null  int64 \n",
      " 5   customer_name      28906 non-null  object\n",
      " 6   product_id         28935 non-null  int64 \n",
      " 7   is_verified        28935 non-null  bool  \n",
      " 8   number_of_likes    28935 non-null  int64 \n",
      " 9   number_of_replies  28935 non-null  int64 \n",
      " 10  sentiment          28935 non-null  object\n",
      "dtypes: bool(1), int64(6), object(4)\n",
      "memory usage: 2.5+ MB\n",
      "None\n"
     ]
    }
   ],
   "source": [
    "# Xóa các dòng trùng lặp\n",
    "df = df.drop_duplicates(subset=['review_id'])\n",
    "\n",
    "# Hiển thị thông tin sau khi xóa trùng lặp\n",
    "print(df.info())"
   ]
  },
  {
   "cell_type": "code",
   "execution_count": 23,
   "metadata": {},
   "outputs": [
    {
     "data": {
      "text/plain": [
       "(28935, 11)"
      ]
     },
     "execution_count": 23,
     "metadata": {},
     "output_type": "execute_result"
    }
   ],
   "source": [
    "df.shape"
   ]
  },
  {
   "cell_type": "code",
   "execution_count": 24,
   "metadata": {},
   "outputs": [
    {
     "name": "stdout",
     "output_type": "stream",
     "text": [
      "<class 'pandas.core.frame.DataFrame'>\n",
      "Index: 20077 entries, 0 to 42021\n",
      "Data columns (total 11 columns):\n",
      " #   Column             Non-Null Count  Dtype \n",
      "---  ------             --------------  ----- \n",
      " 0   review_id          20077 non-null  int64 \n",
      " 1   title              20077 non-null  object\n",
      " 2   content            20077 non-null  object\n",
      " 3   rating             20077 non-null  int64 \n",
      " 4   created_at         20077 non-null  int64 \n",
      " 5   customer_name      20055 non-null  object\n",
      " 6   product_id         20077 non-null  int64 \n",
      " 7   is_verified        20077 non-null  bool  \n",
      " 8   number_of_likes    20077 non-null  int64 \n",
      " 9   number_of_replies  20077 non-null  int64 \n",
      " 10  sentiment          20077 non-null  object\n",
      "dtypes: bool(1), int64(6), object(4)\n",
      "memory usage: 1.7+ MB\n",
      "None\n"
     ]
    }
   ],
   "source": [
    "# Xóa các dòng có giá trị null hoặc NaN trong cột 'content'\n",
    "df = df.dropna(subset=['content'])\n",
    "\n",
    "# Hiển thị thông tin sau khi xóa\n",
    "print(df.info())"
   ]
  },
  {
   "cell_type": "code",
   "execution_count": 25,
   "metadata": {},
   "outputs": [
    {
     "data": {
      "text/html": [
       "<div>\n",
       "<style scoped>\n",
       "    .dataframe tbody tr th:only-of-type {\n",
       "        vertical-align: middle;\n",
       "    }\n",
       "\n",
       "    .dataframe tbody tr th {\n",
       "        vertical-align: top;\n",
       "    }\n",
       "\n",
       "    .dataframe thead th {\n",
       "        text-align: right;\n",
       "    }\n",
       "</style>\n",
       "<table border=\"1\" class=\"dataframe\">\n",
       "  <thead>\n",
       "    <tr style=\"text-align: right;\">\n",
       "      <th></th>\n",
       "      <th>review_id</th>\n",
       "      <th>title</th>\n",
       "      <th>content</th>\n",
       "      <th>rating</th>\n",
       "      <th>created_at</th>\n",
       "      <th>customer_name</th>\n",
       "      <th>product_id</th>\n",
       "      <th>is_verified</th>\n",
       "      <th>number_of_likes</th>\n",
       "      <th>number_of_replies</th>\n",
       "      <th>sentiment</th>\n",
       "    </tr>\n",
       "  </thead>\n",
       "  <tbody>\n",
       "    <tr>\n",
       "      <th>0</th>\n",
       "      <td>17081164</td>\n",
       "      <td>Không hài lòng</td>\n",
       "      <td>Sản phẩm ko phù hợp với giá tiền, chất lượng v...</td>\n",
       "      <td>2</td>\n",
       "      <td>1657895606</td>\n",
       "      <td>Nhan Vo</td>\n",
       "      <td>56889347</td>\n",
       "      <td>False</td>\n",
       "      <td>0</td>\n",
       "      <td>0</td>\n",
       "      <td>negative</td>\n",
       "    </tr>\n",
       "    <tr>\n",
       "      <th>1</th>\n",
       "      <td>19895768</td>\n",
       "      <td>Không hài lòng</td>\n",
       "      <td>Sài được 2 tháng nó khóa máy phải ra trung tâm...</td>\n",
       "      <td>2</td>\n",
       "      <td>1717804644</td>\n",
       "      <td>Nguyễn Thanh Quang</td>\n",
       "      <td>272328188</td>\n",
       "      <td>False</td>\n",
       "      <td>0</td>\n",
       "      <td>0</td>\n",
       "      <td>negative</td>\n",
       "    </tr>\n",
       "    <tr>\n",
       "      <th>2</th>\n",
       "      <td>5445783</td>\n",
       "      <td>Không hài lòng</td>\n",
       "      <td>Mình rate 2 sao vì shipper rất thân thiện.\\nCh...</td>\n",
       "      <td>2</td>\n",
       "      <td>1604336092</td>\n",
       "      <td>Trương Bảo Khánh</td>\n",
       "      <td>23362701</td>\n",
       "      <td>False</td>\n",
       "      <td>0</td>\n",
       "      <td>0</td>\n",
       "      <td>negative</td>\n",
       "    </tr>\n",
       "    <tr>\n",
       "      <th>3</th>\n",
       "      <td>19390511</td>\n",
       "      <td>Rất không hài lòng</td>\n",
       "      <td>Dá quá đắt nghe không hay quá tệ</td>\n",
       "      <td>1</td>\n",
       "      <td>1689700355</td>\n",
       "      <td>Lưu Xuân Tuân</td>\n",
       "      <td>155780905</td>\n",
       "      <td>False</td>\n",
       "      <td>0</td>\n",
       "      <td>0</td>\n",
       "      <td>negative</td>\n",
       "    </tr>\n",
       "    <tr>\n",
       "      <th>4</th>\n",
       "      <td>15466659</td>\n",
       "      <td>Rất không hài lòng</td>\n",
       "      <td>Mua con chuột về kết nối ko được chán vc ***. ...</td>\n",
       "      <td>1</td>\n",
       "      <td>1647506541</td>\n",
       "      <td>Cris Ngo</td>\n",
       "      <td>56606433</td>\n",
       "      <td>False</td>\n",
       "      <td>0</td>\n",
       "      <td>0</td>\n",
       "      <td>negative</td>\n",
       "    </tr>\n",
       "  </tbody>\n",
       "</table>\n",
       "</div>"
      ],
      "text/plain": [
       "   review_id               title  \\\n",
       "0   17081164      Không hài lòng   \n",
       "1   19895768      Không hài lòng   \n",
       "2    5445783      Không hài lòng   \n",
       "3   19390511  Rất không hài lòng   \n",
       "4   15466659  Rất không hài lòng   \n",
       "\n",
       "                                             content  rating  created_at  \\\n",
       "0  Sản phẩm ko phù hợp với giá tiền, chất lượng v...       2  1657895606   \n",
       "1  Sài được 2 tháng nó khóa máy phải ra trung tâm...       2  1717804644   \n",
       "2  Mình rate 2 sao vì shipper rất thân thiện.\\nCh...       2  1604336092   \n",
       "3                   Dá quá đắt nghe không hay quá tệ       1  1689700355   \n",
       "4  Mua con chuột về kết nối ko được chán vc ***. ...       1  1647506541   \n",
       "\n",
       "        customer_name  product_id  is_verified  number_of_likes  \\\n",
       "0             Nhan Vo    56889347        False                0   \n",
       "1  Nguyễn Thanh Quang   272328188        False                0   \n",
       "2    Trương Bảo Khánh    23362701        False                0   \n",
       "3       Lưu Xuân Tuân   155780905        False                0   \n",
       "4            Cris Ngo    56606433        False                0   \n",
       "\n",
       "   number_of_replies sentiment  \n",
       "0                  0  negative  \n",
       "1                  0  negative  \n",
       "2                  0  negative  \n",
       "3                  0  negative  \n",
       "4                  0  negative  "
      ]
     },
     "execution_count": 25,
     "metadata": {},
     "output_type": "execute_result"
    }
   ],
   "source": [
    "df.head()"
   ]
  },
  {
   "cell_type": "code",
   "execution_count": 26,
   "metadata": {},
   "outputs": [
    {
     "name": "stdout",
     "output_type": "stream",
     "text": [
      "sentiment\n",
      "negative    7590\n",
      "positive    7044\n",
      "neutral     5443\n",
      "Name: count, dtype: int64\n"
     ]
    }
   ],
   "source": [
    "sentiment_counts = df['sentiment'].value_counts()\n",
    "print(sentiment_counts)"
   ]
  },
  {
   "cell_type": "code",
   "execution_count": 27,
   "metadata": {},
   "outputs": [
    {
     "data": {
      "text/plain": [
       "(20077, 11)"
      ]
     },
     "execution_count": 27,
     "metadata": {},
     "output_type": "execute_result"
    }
   ],
   "source": [
    "df.shape"
   ]
  },
  {
   "cell_type": "code",
   "execution_count": 25,
   "metadata": {},
   "outputs": [
    {
     "name": "stdout",
     "output_type": "stream",
     "text": [
      "<class 'pandas.core.frame.DataFrame'>\n",
      "RangeIndex: 17291 entries, 0 to 17290\n",
      "Data columns (total 11 columns):\n",
      " #   Column             Non-Null Count  Dtype  \n",
      "---  ------             --------------  -----  \n",
      " 0   product_id         17291 non-null  int64  \n",
      " 1   name               17291 non-null  object \n",
      " 2   short_description  17284 non-null  object \n",
      " 3   price              17291 non-null  int64  \n",
      " 4   original_price     17291 non-null  int64  \n",
      " 5   discount_rate      17291 non-null  int64  \n",
      " 6   rating_average     17291 non-null  float64\n",
      " 7   review_count       17291 non-null  int64  \n",
      " 8   category_name      0 non-null      float64\n",
      " 9   brand_name         16897 non-null  object \n",
      " 10  url                17291 non-null  object \n",
      "dtypes: float64(2), int64(5), object(4)\n",
      "memory usage: 1.5+ MB\n",
      "None\n"
     ]
    }
   ],
   "source": [
    "import pandas as pd\n",
    "import os\n",
    "\n",
    "# Thư mục chứa các file CSV\n",
    "folder_path = \"data\"  # Thay bằng đường dẫn thực tế\n",
    "\n",
    "# Lấy danh sách tất cả các file CSV trong thư mục\n",
    "csv_files = [f for f in os.listdir(folder_path) if f.startswith(\"tiki_products\") and f.endswith(\".csv\")]\n",
    "\n",
    "# Đọc và gộp tất cả các file CSV\n",
    "df_list = [pd.read_csv(os.path.join(folder_path, file)) for file in csv_files]\n",
    "\n",
    "# Gộp thành một DataFrame duy nhất\n",
    "df = pd.concat(df_list, ignore_index=True)\n",
    "\n",
    "# Hiển thị thông tin về DataFrame sau khi gộp\n",
    "print(df.info())\n",
    "\n",
    "# Lưu lại file CSV sau khi gộp\n",
    "df.to_csv(os.path.join(folder_path, \"merged_tiki_products.csv\"), index=False)\n"
   ]
  },
  {
   "cell_type": "code",
   "execution_count": 26,
   "metadata": {},
   "outputs": [],
   "source": [
    "df = pd.read_csv('data\\merged_tiki_products.csv')"
   ]
  },
  {
   "cell_type": "code",
   "execution_count": 27,
   "metadata": {},
   "outputs": [
    {
     "data": {
      "text/html": [
       "<div>\n",
       "<style scoped>\n",
       "    .dataframe tbody tr th:only-of-type {\n",
       "        vertical-align: middle;\n",
       "    }\n",
       "\n",
       "    .dataframe tbody tr th {\n",
       "        vertical-align: top;\n",
       "    }\n",
       "\n",
       "    .dataframe thead th {\n",
       "        text-align: right;\n",
       "    }\n",
       "</style>\n",
       "<table border=\"1\" class=\"dataframe\">\n",
       "  <thead>\n",
       "    <tr style=\"text-align: right;\">\n",
       "      <th></th>\n",
       "      <th>product_id</th>\n",
       "      <th>name</th>\n",
       "      <th>short_description</th>\n",
       "      <th>price</th>\n",
       "      <th>original_price</th>\n",
       "      <th>discount_rate</th>\n",
       "      <th>rating_average</th>\n",
       "      <th>review_count</th>\n",
       "      <th>category_name</th>\n",
       "      <th>brand_name</th>\n",
       "      <th>url</th>\n",
       "    </tr>\n",
       "  </thead>\n",
       "  <tbody>\n",
       "    <tr>\n",
       "      <th>0</th>\n",
       "      <td>56889347</td>\n",
       "      <td>Chuột Không Dây HXSJ X50 Plus - Hàng Chính Hãng</td>\n",
       "      <td>Thiết kế sang trọngChuột Không Dây HXSJ X50 đư...</td>\n",
       "      <td>125000</td>\n",
       "      <td>245000</td>\n",
       "      <td>49</td>\n",
       "      <td>4.3</td>\n",
       "      <td>577</td>\n",
       "      <td>NaN</td>\n",
       "      <td>HXSJ</td>\n",
       "      <td>chuot-khong-day-hxsj-x50-plus-hang-chinh-hang-...</td>\n",
       "    </tr>\n",
       "    <tr>\n",
       "      <th>1</th>\n",
       "      <td>273438724</td>\n",
       "      <td>Điện Thoại Samsung A05s 4GB/128GB , Snapdragon...</td>\n",
       "      <td>Thông số kỹ thuậtMàn hình6.7 inch, PLS LCD, FH...</td>\n",
       "      <td>2990000</td>\n",
       "      <td>3990000</td>\n",
       "      <td>25</td>\n",
       "      <td>0.0</td>\n",
       "      <td>0</td>\n",
       "      <td>NaN</td>\n",
       "      <td>Samsung</td>\n",
       "      <td>dien-thoai-samsung-a05s-4gb-128gb-snapdragon-6...</td>\n",
       "    </tr>\n",
       "    <tr>\n",
       "      <th>2</th>\n",
       "      <td>58097686</td>\n",
       "      <td>Đồng hồ nam chính hãng Lobinni No.12028-3</td>\n",
       "      <td>Nhãn hiệu LOBINNIMã sản phẩm No.12028-3Giới tí...</td>\n",
       "      <td>10214286</td>\n",
       "      <td>10214286</td>\n",
       "      <td>0</td>\n",
       "      <td>0.0</td>\n",
       "      <td>0</td>\n",
       "      <td>NaN</td>\n",
       "      <td>Lobinni</td>\n",
       "      <td>dong-ho-nam-chinh-hang-lobinni-no-12028-3-p580...</td>\n",
       "    </tr>\n",
       "    <tr>\n",
       "      <th>3</th>\n",
       "      <td>44328989</td>\n",
       "      <td>Tai nghe Nhét Tai Earphone Legaxi Hifi Đàm Tho...</td>\n",
       "      <td>Thông tin sản phẩm: Chất lượng âm thanh nổi Hi...</td>\n",
       "      <td>155000</td>\n",
       "      <td>155000</td>\n",
       "      <td>0</td>\n",
       "      <td>5.0</td>\n",
       "      <td>2</td>\n",
       "      <td>NaN</td>\n",
       "      <td>Legaxi</td>\n",
       "      <td>tai-nghe-nhet-tai-earphone-legaxi-hifi-dam-tho...</td>\n",
       "    </tr>\n",
       "    <tr>\n",
       "      <th>4</th>\n",
       "      <td>205752358</td>\n",
       "      <td>Tai Nghe Điện Thoại PKCB323 Thoại Cổng 3.5mm -...</td>\n",
       "      <td>Tai Nghe Nhét Tai có thiết kế nhỏ gọn, kiểu dá...</td>\n",
       "      <td>85000</td>\n",
       "      <td>160000</td>\n",
       "      <td>47</td>\n",
       "      <td>4.8</td>\n",
       "      <td>44</td>\n",
       "      <td>NaN</td>\n",
       "      <td>PKCB</td>\n",
       "      <td>tai-nghe-dien-thoai-pkcb323-thoai-cong-3-5mm-h...</td>\n",
       "    </tr>\n",
       "  </tbody>\n",
       "</table>\n",
       "</div>"
      ],
      "text/plain": [
       "   product_id                                               name  \\\n",
       "0    56889347    Chuột Không Dây HXSJ X50 Plus - Hàng Chính Hãng   \n",
       "1   273438724  Điện Thoại Samsung A05s 4GB/128GB , Snapdragon...   \n",
       "2    58097686          Đồng hồ nam chính hãng Lobinni No.12028-3   \n",
       "3    44328989  Tai nghe Nhét Tai Earphone Legaxi Hifi Đàm Tho...   \n",
       "4   205752358  Tai Nghe Điện Thoại PKCB323 Thoại Cổng 3.5mm -...   \n",
       "\n",
       "                                   short_description     price  \\\n",
       "0  Thiết kế sang trọngChuột Không Dây HXSJ X50 đư...    125000   \n",
       "1  Thông số kỹ thuậtMàn hình6.7 inch, PLS LCD, FH...   2990000   \n",
       "2  Nhãn hiệu LOBINNIMã sản phẩm No.12028-3Giới tí...  10214286   \n",
       "3  Thông tin sản phẩm: Chất lượng âm thanh nổi Hi...    155000   \n",
       "4  Tai Nghe Nhét Tai có thiết kế nhỏ gọn, kiểu dá...     85000   \n",
       "\n",
       "   original_price  discount_rate  rating_average  review_count  category_name  \\\n",
       "0          245000             49             4.3           577            NaN   \n",
       "1         3990000             25             0.0             0            NaN   \n",
       "2        10214286              0             0.0             0            NaN   \n",
       "3          155000              0             5.0             2            NaN   \n",
       "4          160000             47             4.8            44            NaN   \n",
       "\n",
       "  brand_name                                                url  \n",
       "0       HXSJ  chuot-khong-day-hxsj-x50-plus-hang-chinh-hang-...  \n",
       "1    Samsung  dien-thoai-samsung-a05s-4gb-128gb-snapdragon-6...  \n",
       "2    Lobinni  dong-ho-nam-chinh-hang-lobinni-no-12028-3-p580...  \n",
       "3     Legaxi  tai-nghe-nhet-tai-earphone-legaxi-hifi-dam-tho...  \n",
       "4       PKCB  tai-nghe-dien-thoai-pkcb323-thoai-cong-3-5mm-h...  "
      ]
     },
     "execution_count": 27,
     "metadata": {},
     "output_type": "execute_result"
    }
   ],
   "source": [
    "df.head()"
   ]
  },
  {
   "cell_type": "code",
   "execution_count": 28,
   "metadata": {},
   "outputs": [
    {
     "data": {
      "text/plain": [
       "(17291, 11)"
      ]
     },
     "execution_count": 28,
     "metadata": {},
     "output_type": "execute_result"
    }
   ],
   "source": [
    "df.shape"
   ]
  },
  {
   "cell_type": "code",
   "execution_count": 29,
   "metadata": {},
   "outputs": [
    {
     "name": "stdout",
     "output_type": "stream",
     "text": [
      "<class 'pandas.core.frame.DataFrame'>\n",
      "Index: 8587 entries, 0 to 17290\n",
      "Data columns (total 11 columns):\n",
      " #   Column             Non-Null Count  Dtype  \n",
      "---  ------             --------------  -----  \n",
      " 0   product_id         8587 non-null   int64  \n",
      " 1   name               8587 non-null   object \n",
      " 2   short_description  8584 non-null   object \n",
      " 3   price              8587 non-null   int64  \n",
      " 4   original_price     8587 non-null   int64  \n",
      " 5   discount_rate      8587 non-null   int64  \n",
      " 6   rating_average     8587 non-null   float64\n",
      " 7   review_count       8587 non-null   int64  \n",
      " 8   category_name      0 non-null      float64\n",
      " 9   brand_name         8364 non-null   object \n",
      " 10  url                8587 non-null   object \n",
      "dtypes: float64(2), int64(5), object(4)\n",
      "memory usage: 805.0+ KB\n",
      "None\n"
     ]
    }
   ],
   "source": [
    "# Xóa các dòng trùng lặp\n",
    "df = df.drop_duplicates(subset=['product_id'])\n",
    "\n",
    "# Hiển thị thông tin sau khi xóa trùng lặp\n",
    "print(df.info())"
   ]
  },
  {
   "cell_type": "code",
   "execution_count": 30,
   "metadata": {},
   "outputs": [
    {
     "name": "stdout",
     "output_type": "stream",
     "text": [
      "<class 'pandas.core.frame.DataFrame'>\n",
      "Index: 8587 entries, 0 to 17290\n",
      "Data columns (total 11 columns):\n",
      " #   Column             Non-Null Count  Dtype  \n",
      "---  ------             --------------  -----  \n",
      " 0   product_id         8587 non-null   int64  \n",
      " 1   name               8587 non-null   object \n",
      " 2   short_description  8584 non-null   object \n",
      " 3   price              8587 non-null   int64  \n",
      " 4   original_price     8587 non-null   int64  \n",
      " 5   discount_rate      8587 non-null   int64  \n",
      " 6   rating_average     8587 non-null   float64\n",
      " 7   review_count       8587 non-null   int64  \n",
      " 8   category_name      0 non-null      float64\n",
      " 9   brand_name         8364 non-null   object \n",
      " 10  url                8587 non-null   object \n",
      "dtypes: float64(2), int64(5), object(4)\n",
      "memory usage: 805.0+ KB\n"
     ]
    }
   ],
   "source": [
    "df.info()"
   ]
  },
  {
   "cell_type": "code",
   "execution_count": 31,
   "metadata": {},
   "outputs": [
    {
     "name": "stdout",
     "output_type": "stream",
     "text": [
      "product_id              0\n",
      "name                    0\n",
      "short_description       3\n",
      "price                   0\n",
      "original_price          0\n",
      "discount_rate           0\n",
      "rating_average          0\n",
      "review_count            0\n",
      "category_name        8587\n",
      "brand_name            223\n",
      "url                     0\n",
      "dtype: int64\n"
     ]
    }
   ],
   "source": [
    "# Kiểm tra số lượng giá trị null và NaN trong từng cột\n",
    "null_counts = df.isnull().sum()\n",
    "print(null_counts)"
   ]
  },
  {
   "cell_type": "code",
   "execution_count": 32,
   "metadata": {},
   "outputs": [],
   "source": [
    "df.to_csv('data/merged_tiki_products.csv', index=False)"
   ]
  },
  {
   "cell_type": "code",
   "execution_count": 10,
   "metadata": {},
   "outputs": [],
   "source": [
    "df['context'] = df['name'] + df['short_description'] "
   ]
  },
  {
   "cell_type": "code",
   "execution_count": 36,
   "metadata": {},
   "outputs": [
    {
     "name": "stderr",
     "output_type": "stream",
     "text": [
      "Đang bổ sung dữ liệu:   0%|          | 0/8587 [00:00<?, ?it/s]C:\\Users\\TieuSoi\\AppData\\Local\\_Temp\\ipykernel_18976\\4243491979.py:61: FutureWarning: Setting an item of incompatible dtype is deprecated and will raise an error in a future version of pandas. Value 'Thiết Bị Số - Phụ Kiện Số' has dtype incompatible with float64, please explicitly cast to a compatible dtype first.\n",
      "  df.at[index, 'category_name'] = product_info['category_name']\n",
      "Đang bổ sung dữ liệu:  63%|██████▎   | 5414/8587 [3:26:56<1:58:21,  2.24s/it]"
     ]
    },
    {
     "name": "stdout",
     "output_type": "stream",
     "text": [
      "Error fetching data for product ID 276969819: HTTP 404\n"
     ]
    },
    {
     "name": "stderr",
     "output_type": "stream",
     "text": [
      "Đang bổ sung dữ liệu:  63%|██████▎   | 5416/8587 [3:27:02<2:15:01,  2.55s/it]"
     ]
    },
    {
     "name": "stdout",
     "output_type": "stream",
     "text": [
      "Error fetching data for product ID 276969824: HTTP 404\n"
     ]
    },
    {
     "name": "stderr",
     "output_type": "stream",
     "text": [
      "Đang bổ sung dữ liệu:  63%|██████▎   | 5417/8587 [3:27:04<2:01:19,  2.30s/it]"
     ]
    },
    {
     "name": "stdout",
     "output_type": "stream",
     "text": [
      "Error fetching data for product ID 276969832: HTTP 404\n"
     ]
    },
    {
     "name": "stderr",
     "output_type": "stream",
     "text": [
      "Đang bổ sung dữ liệu:  63%|██████▎   | 5419/8587 [3:27:08<1:50:09,  2.09s/it]"
     ]
    },
    {
     "name": "stdout",
     "output_type": "stream",
     "text": [
      "Error fetching data for product ID 276969836: HTTP 404\n"
     ]
    },
    {
     "name": "stderr",
     "output_type": "stream",
     "text": [
      "Đang bổ sung dữ liệu: 100%|██████████| 8587/8587 [5:28:24<00:00,  2.29s/it]  \n"
     ]
    },
    {
     "name": "stdout",
     "output_type": "stream",
     "text": [
      "Đã bổ sung dữ liệu và lưu lại tại: data\\merged_tiki_products.csv\n"
     ]
    }
   ],
   "source": [
    "import pandas as pd\n",
    "import os\n",
    "import requests\n",
    "import time\n",
    "from tqdm import tqdm\n",
    "import random\n",
    "\n",
    "# Hàm lấy thông tin sản phẩm từ API Tiki dựa trên product_id\n",
    "def get_product_info_from_api(product_id):\n",
    "    product_api_url = f'https://tiki.vn/api/v2/products/{product_id}'\n",
    "    headers = {\n",
    "        'User-Agent': 'Mozilla/5.0 (Windows NT 10.0; Win64; x64) AppleWebKit/537.36 (KHTML, like Gecko) Chrome/91.0.4472.124 Safari/537.36',\n",
    "        'Accept-Language': 'vi-VN,vi;q=0.9,en-US;q=0.8,en;q=0.7',\n",
    "    }\n",
    "\n",
    "    try:\n",
    "        response = requests.get(product_api_url, headers=headers)\n",
    "\n",
    "        # Kiểm tra mã trạng thái HTTP\n",
    "        if response.status_code != 200:\n",
    "            print(f\"Error fetching data for product ID {product_id}: HTTP {response.status_code}\")\n",
    "            return {'image_url': '', 'category_name': ''}  # Trả về thông tin mặc định nếu có lỗi HTTP\n",
    "\n",
    "        data = response.json()\n",
    "\n",
    "        # Kiểm tra nếu dữ liệu không đầy đủ\n",
    "        if 'thumbnail_url' not in data or ('categories' not in data and 'breadcrumbs' not in data):\n",
    "            print(f\"Error fetching data for product ID {product_id}: Missing fields\")\n",
    "            return {'image_url': '', 'category_name': ''}\n",
    "\n",
    "        # Trích xuất category_name từ categories nếu có, nếu không lấy từ breadcrumbs\n",
    "        if 'categories' in data and data['categories']:\n",
    "            category_name = data['categories'].get('name', '')  # Lấy tên danh mục từ categories\n",
    "        elif 'breadcrumbs' in data and data['breadcrumbs']:\n",
    "            category_name = data['breadcrumbs'][0].get('name', '')  # Lấy tên từ breadcrumbs\n",
    "        else:\n",
    "            category_name = ''\n",
    "\n",
    "        # Trả về các trường cần thiết\n",
    "        thumbnail_url = data.get('thumbnail_url', '')  # Lấy URL ảnh\n",
    "\n",
    "        return {\n",
    "            'image_url': thumbnail_url,\n",
    "            'category_name': category_name\n",
    "        }\n",
    "    except requests.exceptions.RequestException as e:\n",
    "        print(f\"Error fetching data for product ID {product_id}: {e}\")\n",
    "        return {'image_url': '', 'category_name': ''}  # Nếu lỗi kết nối hoặc exception khác\n",
    "\n",
    "# Hàm bổ sung dữ liệu thiếu cho các sản phẩm\n",
    "def add_missing_data(df):\n",
    "    for index, row in tqdm(df.iterrows(), total=len(df), desc=\"Đang bổ sung dữ liệu\"):\n",
    "        # Nếu đã có đủ dữ liệu thì bỏ qua\n",
    "        if row['image_url'] and row['category_name']:\n",
    "            continue\n",
    "\n",
    "        product_id = row['product_id']\n",
    "        product_info = get_product_info_from_api(product_id)\n",
    "\n",
    "        df.at[index, 'image_url'] = product_info['image_url']\n",
    "        df.at[index, 'category_name'] = product_info['category_name']\n",
    "\n",
    "        # Chờ để tránh quá tải API\n",
    "        time.sleep(random.uniform(1, 2))\n",
    "\n",
    "    return df\n",
    "\n",
    "# Đọc dữ liệu từ file CSV đã gộp\n",
    "folder_path = \"data\"  # Thư mục chứa file đã gộp\n",
    "merged_file_path = os.path.join(folder_path, \"merged_tiki_products.csv\")\n",
    "df = pd.read_csv(merged_file_path)\n",
    "\n",
    "# Kiểm tra nếu thiếu 2 cột cần bổ sung\n",
    "if 'image_url' not in df.columns or 'category_name' not in df.columns:\n",
    "    # Thêm 2 cột nếu chưa có\n",
    "    if 'image_url' not in df.columns:\n",
    "        df['image_url'] = ''\n",
    "    if 'category_name' not in df.columns:\n",
    "        df['category_name'] = ''\n",
    "\n",
    "    # Bổ sung dữ liệu thiếu\n",
    "    df = add_missing_data(df)\n",
    "\n",
    "    # Lưu lại file CSV đã bổ sung dữ liệu\n",
    "    df.to_csv('merged_tiki_products.csv', index=False)\n",
    "    print(f\"Đã bổ sung dữ liệu và lưu lại tại: {merged_file_path}\")\n",
    "else:\n",
    "    print(\"Không cần bổ sung dữ liệu vì các trường đã đầy đủ.\")\n"
   ]
  },
  {
   "cell_type": "code",
   "execution_count": 37,
   "metadata": {},
   "outputs": [
    {
     "data": {
      "text/html": [
       "<div>\n",
       "<style scoped>\n",
       "    .dataframe tbody tr th:only-of-type {\n",
       "        vertical-align: middle;\n",
       "    }\n",
       "\n",
       "    .dataframe tbody tr th {\n",
       "        vertical-align: top;\n",
       "    }\n",
       "\n",
       "    .dataframe thead th {\n",
       "        text-align: right;\n",
       "    }\n",
       "</style>\n",
       "<table border=\"1\" class=\"dataframe\">\n",
       "  <thead>\n",
       "    <tr style=\"text-align: right;\">\n",
       "      <th></th>\n",
       "      <th>product_id</th>\n",
       "      <th>name</th>\n",
       "      <th>short_description</th>\n",
       "      <th>price</th>\n",
       "      <th>original_price</th>\n",
       "      <th>discount_rate</th>\n",
       "      <th>rating_average</th>\n",
       "      <th>review_count</th>\n",
       "      <th>category_name</th>\n",
       "      <th>brand_name</th>\n",
       "      <th>url</th>\n",
       "      <th>image_url</th>\n",
       "    </tr>\n",
       "  </thead>\n",
       "  <tbody>\n",
       "    <tr>\n",
       "      <th>0</th>\n",
       "      <td>56889347</td>\n",
       "      <td>Chuột Không Dây HXSJ X50 Plus - Hàng Chính Hãng</td>\n",
       "      <td>Thiết kế sang trọngChuột Không Dây HXSJ X50 đư...</td>\n",
       "      <td>125000</td>\n",
       "      <td>245000</td>\n",
       "      <td>49</td>\n",
       "      <td>4.3</td>\n",
       "      <td>577</td>\n",
       "      <td>Thiết Bị Số - Phụ Kiện Số</td>\n",
       "      <td>HXSJ</td>\n",
       "      <td>chuot-khong-day-hxsj-x50-plus-hang-chinh-hang-...</td>\n",
       "      <td>https://salt.tikicdn.com/cache/280x280/ts/prod...</td>\n",
       "    </tr>\n",
       "    <tr>\n",
       "      <th>1</th>\n",
       "      <td>273438724</td>\n",
       "      <td>Điện Thoại Samsung A05s 4GB/128GB , Snapdragon...</td>\n",
       "      <td>Thông số kỹ thuậtMàn hình6.7 inch, PLS LCD, FH...</td>\n",
       "      <td>2990000</td>\n",
       "      <td>3990000</td>\n",
       "      <td>25</td>\n",
       "      <td>0.0</td>\n",
       "      <td>0</td>\n",
       "      <td>Điện thoại Smartphone</td>\n",
       "      <td>Samsung</td>\n",
       "      <td>dien-thoai-samsung-a05s-4gb-128gb-snapdragon-6...</td>\n",
       "      <td>https://salt.tikicdn.com/cache/280x280/ts/prod...</td>\n",
       "    </tr>\n",
       "    <tr>\n",
       "      <th>2</th>\n",
       "      <td>58097686</td>\n",
       "      <td>Đồng hồ nam chính hãng Lobinni No.12028-3</td>\n",
       "      <td>Nhãn hiệu LOBINNIMã sản phẩm No.12028-3Giới tí...</td>\n",
       "      <td>10214286</td>\n",
       "      <td>10214286</td>\n",
       "      <td>0</td>\n",
       "      <td>0.0</td>\n",
       "      <td>0</td>\n",
       "      <td>Thời Trang</td>\n",
       "      <td>Lobinni</td>\n",
       "      <td>dong-ho-nam-chinh-hang-lobinni-no-12028-3-p580...</td>\n",
       "      <td>https://salt.tikicdn.com/cache/280x280/ts/prod...</td>\n",
       "    </tr>\n",
       "    <tr>\n",
       "      <th>3</th>\n",
       "      <td>44328989</td>\n",
       "      <td>Tai nghe Nhét Tai Earphone Legaxi Hifi Đàm Tho...</td>\n",
       "      <td>Thông tin sản phẩm: Chất lượng âm thanh nổi Hi...</td>\n",
       "      <td>155000</td>\n",
       "      <td>155000</td>\n",
       "      <td>0</td>\n",
       "      <td>5.0</td>\n",
       "      <td>2</td>\n",
       "      <td>Tai Nghe Có Dây</td>\n",
       "      <td>Legaxi</td>\n",
       "      <td>tai-nghe-nhet-tai-earphone-legaxi-hifi-dam-tho...</td>\n",
       "      <td>https://salt.tikicdn.com/cache/280x280/ts/prod...</td>\n",
       "    </tr>\n",
       "    <tr>\n",
       "      <th>4</th>\n",
       "      <td>205752358</td>\n",
       "      <td>Tai Nghe Điện Thoại PKCB323 Thoại Cổng 3.5mm -...</td>\n",
       "      <td>Tai Nghe Nhét Tai có thiết kế nhỏ gọn, kiểu dá...</td>\n",
       "      <td>85000</td>\n",
       "      <td>160000</td>\n",
       "      <td>47</td>\n",
       "      <td>4.8</td>\n",
       "      <td>44</td>\n",
       "      <td>Thiết Bị Số - Phụ Kiện Số</td>\n",
       "      <td>PKCB</td>\n",
       "      <td>tai-nghe-dien-thoai-pkcb323-thoai-cong-3-5mm-h...</td>\n",
       "      <td>https://salt.tikicdn.com/cache/280x280/ts/prod...</td>\n",
       "    </tr>\n",
       "  </tbody>\n",
       "</table>\n",
       "</div>"
      ],
      "text/plain": [
       "   product_id                                               name  \\\n",
       "0    56889347    Chuột Không Dây HXSJ X50 Plus - Hàng Chính Hãng   \n",
       "1   273438724  Điện Thoại Samsung A05s 4GB/128GB , Snapdragon...   \n",
       "2    58097686          Đồng hồ nam chính hãng Lobinni No.12028-3   \n",
       "3    44328989  Tai nghe Nhét Tai Earphone Legaxi Hifi Đàm Tho...   \n",
       "4   205752358  Tai Nghe Điện Thoại PKCB323 Thoại Cổng 3.5mm -...   \n",
       "\n",
       "                                   short_description     price  \\\n",
       "0  Thiết kế sang trọngChuột Không Dây HXSJ X50 đư...    125000   \n",
       "1  Thông số kỹ thuậtMàn hình6.7 inch, PLS LCD, FH...   2990000   \n",
       "2  Nhãn hiệu LOBINNIMã sản phẩm No.12028-3Giới tí...  10214286   \n",
       "3  Thông tin sản phẩm: Chất lượng âm thanh nổi Hi...    155000   \n",
       "4  Tai Nghe Nhét Tai có thiết kế nhỏ gọn, kiểu dá...     85000   \n",
       "\n",
       "   original_price  discount_rate  rating_average  review_count  \\\n",
       "0          245000             49             4.3           577   \n",
       "1         3990000             25             0.0             0   \n",
       "2        10214286              0             0.0             0   \n",
       "3          155000              0             5.0             2   \n",
       "4          160000             47             4.8            44   \n",
       "\n",
       "               category_name brand_name  \\\n",
       "0  Thiết Bị Số - Phụ Kiện Số       HXSJ   \n",
       "1      Điện thoại Smartphone    Samsung   \n",
       "2                 Thời Trang    Lobinni   \n",
       "3            Tai Nghe Có Dây     Legaxi   \n",
       "4  Thiết Bị Số - Phụ Kiện Số       PKCB   \n",
       "\n",
       "                                                 url  \\\n",
       "0  chuot-khong-day-hxsj-x50-plus-hang-chinh-hang-...   \n",
       "1  dien-thoai-samsung-a05s-4gb-128gb-snapdragon-6...   \n",
       "2  dong-ho-nam-chinh-hang-lobinni-no-12028-3-p580...   \n",
       "3  tai-nghe-nhet-tai-earphone-legaxi-hifi-dam-tho...   \n",
       "4  tai-nghe-dien-thoai-pkcb323-thoai-cong-3-5mm-h...   \n",
       "\n",
       "                                           image_url  \n",
       "0  https://salt.tikicdn.com/cache/280x280/ts/prod...  \n",
       "1  https://salt.tikicdn.com/cache/280x280/ts/prod...  \n",
       "2  https://salt.tikicdn.com/cache/280x280/ts/prod...  \n",
       "3  https://salt.tikicdn.com/cache/280x280/ts/prod...  \n",
       "4  https://salt.tikicdn.com/cache/280x280/ts/prod...  "
      ]
     },
     "execution_count": 37,
     "metadata": {},
     "output_type": "execute_result"
    }
   ],
   "source": [
    "df = pd.read_csv('merged_tiki_products.csv')\n",
    "df.head(5)"
   ]
  },
  {
   "cell_type": "code",
   "execution_count": 47,
   "metadata": {},
   "outputs": [
    {
     "data": {
      "text/plain": [
       "(8587, 12)"
      ]
     },
     "execution_count": 47,
     "metadata": {},
     "output_type": "execute_result"
    }
   ],
   "source": [
    "df.shape"
   ]
  },
  {
   "cell_type": "code",
   "execution_count": 48,
   "metadata": {},
   "outputs": [
    {
     "name": "stdout",
     "output_type": "stream",
     "text": [
      "<class 'pandas.core.frame.DataFrame'>\n",
      "RangeIndex: 8587 entries, 0 to 8586\n",
      "Data columns (total 12 columns):\n",
      " #   Column             Non-Null Count  Dtype  \n",
      "---  ------             --------------  -----  \n",
      " 0   product_id         8587 non-null   int64  \n",
      " 1   name               8587 non-null   object \n",
      " 2   short_description  8584 non-null   object \n",
      " 3   price              8587 non-null   int64  \n",
      " 4   original_price     8587 non-null   int64  \n",
      " 5   discount_rate      8587 non-null   int64  \n",
      " 6   rating_average     8587 non-null   float64\n",
      " 7   review_count       8587 non-null   int64  \n",
      " 8   category_name      8583 non-null   object \n",
      " 9   brand_name         8364 non-null   object \n",
      " 10  url                8587 non-null   object \n",
      " 11  image_url          8515 non-null   object \n",
      "dtypes: float64(1), int64(5), object(6)\n",
      "memory usage: 805.2+ KB\n"
     ]
    }
   ],
   "source": [
    "df.info()"
   ]
  },
  {
   "cell_type": "code",
   "execution_count": 53,
   "metadata": {},
   "outputs": [
    {
     "name": "stdout",
     "output_type": "stream",
     "text": [
      "product_id             0\n",
      "name                   0\n",
      "short_description      3\n",
      "price                  0\n",
      "original_price         0\n",
      "discount_rate          0\n",
      "rating_average         0\n",
      "review_count           0\n",
      "category_name          0\n",
      "brand_name           223\n",
      "url                    0\n",
      "image_url              0\n",
      "dtype: int64\n"
     ]
    }
   ],
   "source": [
    "# Kiểm tra số lượng giá trị null và NaN trong từng cột\n",
    "null_counts = df.isnull().sum()\n",
    "print(null_counts)"
   ]
  },
  {
   "cell_type": "code",
   "execution_count": 52,
   "metadata": {},
   "outputs": [],
   "source": [
    "# Bỏ các dòng thiếu image_url\n",
    "df = df.dropna(subset=[\"image_url\"])\n",
    "\n",
    "# (Tùy chọn) Đặt lại chỉ số cho sạch\n",
    "df = df.reset_index(drop=True)"
   ]
  },
  {
   "cell_type": "code",
   "execution_count": 54,
   "metadata": {},
   "outputs": [
    {
     "name": "stdout",
     "output_type": "stream",
     "text": [
      "Số lượng sản phẩm trùng ID: 0\n",
      "Empty DataFrame\n",
      "Columns: [product_id, name, short_description, price, original_price, discount_rate, rating_average, review_count, category_name, brand_name, url, image_url]\n",
      "Index: []\n"
     ]
    }
   ],
   "source": [
    "# Tìm các dòng có product_id bị trùng\n",
    "duplicated_ids = df[df.duplicated(subset=\"product_id\", keep=False)]\n",
    "\n",
    "print(\"Số lượng sản phẩm trùng ID:\", len(duplicated_ids))\n",
    "print(duplicated_ids.head())\n"
   ]
  },
  {
   "cell_type": "code",
   "execution_count": 55,
   "metadata": {},
   "outputs": [],
   "source": [
    "df['context'] = df['name'] + df['short_description'] + df['category_name'] + df['brand_name']"
   ]
  },
  {
   "cell_type": "code",
   "execution_count": 61,
   "metadata": {},
   "outputs": [
    {
     "data": {
      "text/plain": [
       "0    Chuột Không Dây HXSJ X50 Plus - Hàng Chính Hãn...\n",
       "1    Điện Thoại Samsung A05s 4GB/128GB , Snapdragon...\n",
       "2    Đồng hồ nam chính hãng Lobinni No.12028-3Nhãn ...\n",
       "3    Tai nghe Nhét Tai Earphone Legaxi Hifi Đàm Tho...\n",
       "4    Tai Nghe Điện Thoại PKCB323 Thoại Cổng 3.5mm -...\n",
       "Name: context, dtype: object"
      ]
     },
     "execution_count": 61,
     "metadata": {},
     "output_type": "execute_result"
    }
   ],
   "source": [
    "df['context'].head(5)"
   ]
  },
  {
   "cell_type": "code",
   "execution_count": 60,
   "metadata": {},
   "outputs": [
    {
     "name": "stdout",
     "output_type": "stream",
     "text": [
      "226\n"
     ]
    }
   ],
   "source": [
    "print(df['context'].isnull().sum())"
   ]
  },
  {
   "cell_type": "code",
   "execution_count": 62,
   "metadata": {},
   "outputs": [],
   "source": [
    "df['context'] = df['context'].fillna('')"
   ]
  },
  {
   "cell_type": "code",
   "execution_count": 64,
   "metadata": {},
   "outputs": [
    {
     "data": {
      "text/plain": [
       "(8515, 13)"
      ]
     },
     "execution_count": 64,
     "metadata": {},
     "output_type": "execute_result"
    }
   ],
   "source": [
    "df.shape"
   ]
  },
  {
   "cell_type": "code",
   "execution_count": 65,
   "metadata": {},
   "outputs": [],
   "source": [
    "df.to_csv('data/merged_tiki_products_clean.csv', index=False)"
   ]
  }
 ],
 "metadata": {
  "kernelspec": {
   "display_name": "venv",
   "language": "python",
   "name": "python3"
  },
  "language_info": {
   "codemirror_mode": {
    "name": "ipython",
    "version": 3
   },
   "file_extension": ".py",
   "mimetype": "text/x-python",
   "name": "python",
   "nbconvert_exporter": "python",
   "pygments_lexer": "ipython3",
   "version": "3.11.9"
  }
 },
 "nbformat": 4,
 "nbformat_minor": 2
}
