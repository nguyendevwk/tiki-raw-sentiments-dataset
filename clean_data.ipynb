{
 "cells": [
  {
   "cell_type": "code",
   "execution_count": 17,
   "metadata": {},
   "outputs": [],
   "source": [
    "import pandas as pd"
   ]
  },
  {
   "cell_type": "code",
   "execution_count": 18,
   "metadata": {},
   "outputs": [
    {
     "name": "stdout",
     "output_type": "stream",
     "text": [
      "<class 'pandas.core.frame.DataFrame'>\n",
      "RangeIndex: 42028 entries, 0 to 42027\n",
      "Data columns (total 11 columns):\n",
      " #   Column             Non-Null Count  Dtype \n",
      "---  ------             --------------  ----- \n",
      " 0   review_id          42028 non-null  int64 \n",
      " 1   title              42028 non-null  object\n",
      " 2   content            31772 non-null  object\n",
      " 3   rating             42028 non-null  int64 \n",
      " 4   created_at         42028 non-null  int64 \n",
      " 5   customer_name      41988 non-null  object\n",
      " 6   product_id         42028 non-null  int64 \n",
      " 7   is_verified        42028 non-null  bool  \n",
      " 8   number_of_likes    42028 non-null  int64 \n",
      " 9   number_of_replies  42028 non-null  int64 \n",
      " 10  sentiment          42028 non-null  object\n",
      "dtypes: bool(1), int64(6), object(4)\n",
      "memory usage: 3.2+ MB\n",
      "None\n"
     ]
    }
   ],
   "source": [
    "import pandas as pd\n",
    "import os\n",
    "\n",
    "# Thư mục chứa các file CSV\n",
    "folder_path = \"data\"  # Thay bằng đường dẫn thực tế\n",
    "\n",
    "# Lấy danh sách tất cả các file CSV trong thư mục\n",
    "csv_files = [f for f in os.listdir(folder_path) if f.startswith(\"tiki_reviews\") and f.endswith(\".csv\")]\n",
    "\n",
    "# Đọc và gộp tất cả các file CSV\n",
    "df_list = [pd.read_csv(os.path.join(folder_path, file)) for file in csv_files]\n",
    "\n",
    "# Gộp thành một DataFrame duy nhất\n",
    "df = pd.concat(df_list, ignore_index=True)\n",
    "\n",
    "# Hiển thị thông tin về DataFrame sau khi gộp\n",
    "print(df.info())\n",
    "\n",
    "# Lưu lại file CSV sau khi gộp\n",
    "df.to_csv(os.path.join(folder_path, \"merged_tiki_reviews.csv\"), index=False)\n"
   ]
  },
  {
   "cell_type": "code",
   "execution_count": 19,
   "metadata": {},
   "outputs": [],
   "source": [
    "df = pd.read_csv('data\\merged_tiki_reviews.csv')"
   ]
  },
  {
   "cell_type": "code",
   "execution_count": 20,
   "metadata": {},
   "outputs": [
    {
     "data": {
      "text/html": [
       "<div>\n",
       "<style scoped>\n",
       "    .dataframe tbody tr th:only-of-type {\n",
       "        vertical-align: middle;\n",
       "    }\n",
       "\n",
       "    .dataframe tbody tr th {\n",
       "        vertical-align: top;\n",
       "    }\n",
       "\n",
       "    .dataframe thead th {\n",
       "        text-align: right;\n",
       "    }\n",
       "</style>\n",
       "<table border=\"1\" class=\"dataframe\">\n",
       "  <thead>\n",
       "    <tr style=\"text-align: right;\">\n",
       "      <th></th>\n",
       "      <th>review_id</th>\n",
       "      <th>title</th>\n",
       "      <th>content</th>\n",
       "      <th>rating</th>\n",
       "      <th>created_at</th>\n",
       "      <th>customer_name</th>\n",
       "      <th>product_id</th>\n",
       "      <th>is_verified</th>\n",
       "      <th>number_of_likes</th>\n",
       "      <th>number_of_replies</th>\n",
       "      <th>sentiment</th>\n",
       "    </tr>\n",
       "  </thead>\n",
       "  <tbody>\n",
       "    <tr>\n",
       "      <th>0</th>\n",
       "      <td>17081164</td>\n",
       "      <td>Không hài lòng</td>\n",
       "      <td>Sản phẩm ko phù hợp với giá tiền, chất lượng v...</td>\n",
       "      <td>2</td>\n",
       "      <td>1657895606</td>\n",
       "      <td>Nhan Vo</td>\n",
       "      <td>56889347</td>\n",
       "      <td>False</td>\n",
       "      <td>0</td>\n",
       "      <td>0</td>\n",
       "      <td>negative</td>\n",
       "    </tr>\n",
       "    <tr>\n",
       "      <th>1</th>\n",
       "      <td>19895768</td>\n",
       "      <td>Không hài lòng</td>\n",
       "      <td>Sài được 2 tháng nó khóa máy phải ra trung tâm...</td>\n",
       "      <td>2</td>\n",
       "      <td>1717804644</td>\n",
       "      <td>Nguyễn Thanh Quang</td>\n",
       "      <td>272328188</td>\n",
       "      <td>False</td>\n",
       "      <td>0</td>\n",
       "      <td>0</td>\n",
       "      <td>negative</td>\n",
       "    </tr>\n",
       "    <tr>\n",
       "      <th>2</th>\n",
       "      <td>5445783</td>\n",
       "      <td>Không hài lòng</td>\n",
       "      <td>Mình rate 2 sao vì shipper rất thân thiện.\\nCh...</td>\n",
       "      <td>2</td>\n",
       "      <td>1604336092</td>\n",
       "      <td>Trương Bảo Khánh</td>\n",
       "      <td>23362701</td>\n",
       "      <td>False</td>\n",
       "      <td>0</td>\n",
       "      <td>0</td>\n",
       "      <td>negative</td>\n",
       "    </tr>\n",
       "    <tr>\n",
       "      <th>3</th>\n",
       "      <td>19390511</td>\n",
       "      <td>Rất không hài lòng</td>\n",
       "      <td>Dá quá đắt nghe không hay quá tệ</td>\n",
       "      <td>1</td>\n",
       "      <td>1689700355</td>\n",
       "      <td>Lưu Xuân Tuân</td>\n",
       "      <td>155780905</td>\n",
       "      <td>False</td>\n",
       "      <td>0</td>\n",
       "      <td>0</td>\n",
       "      <td>negative</td>\n",
       "    </tr>\n",
       "    <tr>\n",
       "      <th>4</th>\n",
       "      <td>15466659</td>\n",
       "      <td>Rất không hài lòng</td>\n",
       "      <td>Mua con chuột về kết nối ko được chán vc ***. ...</td>\n",
       "      <td>1</td>\n",
       "      <td>1647506541</td>\n",
       "      <td>Cris Ngo</td>\n",
       "      <td>56606433</td>\n",
       "      <td>False</td>\n",
       "      <td>0</td>\n",
       "      <td>0</td>\n",
       "      <td>negative</td>\n",
       "    </tr>\n",
       "  </tbody>\n",
       "</table>\n",
       "</div>"
      ],
      "text/plain": [
       "   review_id               title  \\\n",
       "0   17081164      Không hài lòng   \n",
       "1   19895768      Không hài lòng   \n",
       "2    5445783      Không hài lòng   \n",
       "3   19390511  Rất không hài lòng   \n",
       "4   15466659  Rất không hài lòng   \n",
       "\n",
       "                                             content  rating  created_at  \\\n",
       "0  Sản phẩm ko phù hợp với giá tiền, chất lượng v...       2  1657895606   \n",
       "1  Sài được 2 tháng nó khóa máy phải ra trung tâm...       2  1717804644   \n",
       "2  Mình rate 2 sao vì shipper rất thân thiện.\\nCh...       2  1604336092   \n",
       "3                   Dá quá đắt nghe không hay quá tệ       1  1689700355   \n",
       "4  Mua con chuột về kết nối ko được chán vc ***. ...       1  1647506541   \n",
       "\n",
       "        customer_name  product_id  is_verified  number_of_likes  \\\n",
       "0             Nhan Vo    56889347        False                0   \n",
       "1  Nguyễn Thanh Quang   272328188        False                0   \n",
       "2    Trương Bảo Khánh    23362701        False                0   \n",
       "3       Lưu Xuân Tuân   155780905        False                0   \n",
       "4            Cris Ngo    56606433        False                0   \n",
       "\n",
       "   number_of_replies sentiment  \n",
       "0                  0  negative  \n",
       "1                  0  negative  \n",
       "2                  0  negative  \n",
       "3                  0  negative  \n",
       "4                  0  negative  "
      ]
     },
     "execution_count": 20,
     "metadata": {},
     "output_type": "execute_result"
    }
   ],
   "source": [
    "df.head()"
   ]
  },
  {
   "cell_type": "code",
   "execution_count": 21,
   "metadata": {},
   "outputs": [
    {
     "data": {
      "text/plain": [
       "(42028, 11)"
      ]
     },
     "execution_count": 21,
     "metadata": {},
     "output_type": "execute_result"
    }
   ],
   "source": [
    "df.shape"
   ]
  },
  {
   "cell_type": "code",
   "execution_count": 22,
   "metadata": {},
   "outputs": [
    {
     "name": "stdout",
     "output_type": "stream",
     "text": [
      "<class 'pandas.core.frame.DataFrame'>\n",
      "Index: 28935 entries, 0 to 42027\n",
      "Data columns (total 11 columns):\n",
      " #   Column             Non-Null Count  Dtype \n",
      "---  ------             --------------  ----- \n",
      " 0   review_id          28935 non-null  int64 \n",
      " 1   title              28935 non-null  object\n",
      " 2   content            20077 non-null  object\n",
      " 3   rating             28935 non-null  int64 \n",
      " 4   created_at         28935 non-null  int64 \n",
      " 5   customer_name      28906 non-null  object\n",
      " 6   product_id         28935 non-null  int64 \n",
      " 7   is_verified        28935 non-null  bool  \n",
      " 8   number_of_likes    28935 non-null  int64 \n",
      " 9   number_of_replies  28935 non-null  int64 \n",
      " 10  sentiment          28935 non-null  object\n",
      "dtypes: bool(1), int64(6), object(4)\n",
      "memory usage: 2.5+ MB\n",
      "None\n"
     ]
    }
   ],
   "source": [
    "# Xóa các dòng trùng lặp\n",
    "df = df.drop_duplicates(subset=['review_id'])\n",
    "\n",
    "# Hiển thị thông tin sau khi xóa trùng lặp\n",
    "print(df.info())"
   ]
  },
  {
   "cell_type": "code",
   "execution_count": 23,
   "metadata": {},
   "outputs": [
    {
     "data": {
      "text/plain": [
       "(28935, 11)"
      ]
     },
     "execution_count": 23,
     "metadata": {},
     "output_type": "execute_result"
    }
   ],
   "source": [
    "df.shape"
   ]
  },
  {
   "cell_type": "code",
   "execution_count": 24,
   "metadata": {},
   "outputs": [
    {
     "name": "stdout",
     "output_type": "stream",
     "text": [
      "<class 'pandas.core.frame.DataFrame'>\n",
      "Index: 20077 entries, 0 to 42021\n",
      "Data columns (total 11 columns):\n",
      " #   Column             Non-Null Count  Dtype \n",
      "---  ------             --------------  ----- \n",
      " 0   review_id          20077 non-null  int64 \n",
      " 1   title              20077 non-null  object\n",
      " 2   content            20077 non-null  object\n",
      " 3   rating             20077 non-null  int64 \n",
      " 4   created_at         20077 non-null  int64 \n",
      " 5   customer_name      20055 non-null  object\n",
      " 6   product_id         20077 non-null  int64 \n",
      " 7   is_verified        20077 non-null  bool  \n",
      " 8   number_of_likes    20077 non-null  int64 \n",
      " 9   number_of_replies  20077 non-null  int64 \n",
      " 10  sentiment          20077 non-null  object\n",
      "dtypes: bool(1), int64(6), object(4)\n",
      "memory usage: 1.7+ MB\n",
      "None\n"
     ]
    }
   ],
   "source": [
    "# Xóa các dòng có giá trị null hoặc NaN trong cột 'content'\n",
    "df = df.dropna(subset=['content'])\n",
    "\n",
    "# Hiển thị thông tin sau khi xóa\n",
    "print(df.info())"
   ]
  },
  {
   "cell_type": "code",
   "execution_count": 25,
   "metadata": {},
   "outputs": [
    {
     "data": {
      "text/html": [
       "<div>\n",
       "<style scoped>\n",
       "    .dataframe tbody tr th:only-of-type {\n",
       "        vertical-align: middle;\n",
       "    }\n",
       "\n",
       "    .dataframe tbody tr th {\n",
       "        vertical-align: top;\n",
       "    }\n",
       "\n",
       "    .dataframe thead th {\n",
       "        text-align: right;\n",
       "    }\n",
       "</style>\n",
       "<table border=\"1\" class=\"dataframe\">\n",
       "  <thead>\n",
       "    <tr style=\"text-align: right;\">\n",
       "      <th></th>\n",
       "      <th>review_id</th>\n",
       "      <th>title</th>\n",
       "      <th>content</th>\n",
       "      <th>rating</th>\n",
       "      <th>created_at</th>\n",
       "      <th>customer_name</th>\n",
       "      <th>product_id</th>\n",
       "      <th>is_verified</th>\n",
       "      <th>number_of_likes</th>\n",
       "      <th>number_of_replies</th>\n",
       "      <th>sentiment</th>\n",
       "    </tr>\n",
       "  </thead>\n",
       "  <tbody>\n",
       "    <tr>\n",
       "      <th>0</th>\n",
       "      <td>17081164</td>\n",
       "      <td>Không hài lòng</td>\n",
       "      <td>Sản phẩm ko phù hợp với giá tiền, chất lượng v...</td>\n",
       "      <td>2</td>\n",
       "      <td>1657895606</td>\n",
       "      <td>Nhan Vo</td>\n",
       "      <td>56889347</td>\n",
       "      <td>False</td>\n",
       "      <td>0</td>\n",
       "      <td>0</td>\n",
       "      <td>negative</td>\n",
       "    </tr>\n",
       "    <tr>\n",
       "      <th>1</th>\n",
       "      <td>19895768</td>\n",
       "      <td>Không hài lòng</td>\n",
       "      <td>Sài được 2 tháng nó khóa máy phải ra trung tâm...</td>\n",
       "      <td>2</td>\n",
       "      <td>1717804644</td>\n",
       "      <td>Nguyễn Thanh Quang</td>\n",
       "      <td>272328188</td>\n",
       "      <td>False</td>\n",
       "      <td>0</td>\n",
       "      <td>0</td>\n",
       "      <td>negative</td>\n",
       "    </tr>\n",
       "    <tr>\n",
       "      <th>2</th>\n",
       "      <td>5445783</td>\n",
       "      <td>Không hài lòng</td>\n",
       "      <td>Mình rate 2 sao vì shipper rất thân thiện.\\nCh...</td>\n",
       "      <td>2</td>\n",
       "      <td>1604336092</td>\n",
       "      <td>Trương Bảo Khánh</td>\n",
       "      <td>23362701</td>\n",
       "      <td>False</td>\n",
       "      <td>0</td>\n",
       "      <td>0</td>\n",
       "      <td>negative</td>\n",
       "    </tr>\n",
       "    <tr>\n",
       "      <th>3</th>\n",
       "      <td>19390511</td>\n",
       "      <td>Rất không hài lòng</td>\n",
       "      <td>Dá quá đắt nghe không hay quá tệ</td>\n",
       "      <td>1</td>\n",
       "      <td>1689700355</td>\n",
       "      <td>Lưu Xuân Tuân</td>\n",
       "      <td>155780905</td>\n",
       "      <td>False</td>\n",
       "      <td>0</td>\n",
       "      <td>0</td>\n",
       "      <td>negative</td>\n",
       "    </tr>\n",
       "    <tr>\n",
       "      <th>4</th>\n",
       "      <td>15466659</td>\n",
       "      <td>Rất không hài lòng</td>\n",
       "      <td>Mua con chuột về kết nối ko được chán vc ***. ...</td>\n",
       "      <td>1</td>\n",
       "      <td>1647506541</td>\n",
       "      <td>Cris Ngo</td>\n",
       "      <td>56606433</td>\n",
       "      <td>False</td>\n",
       "      <td>0</td>\n",
       "      <td>0</td>\n",
       "      <td>negative</td>\n",
       "    </tr>\n",
       "  </tbody>\n",
       "</table>\n",
       "</div>"
      ],
      "text/plain": [
       "   review_id               title  \\\n",
       "0   17081164      Không hài lòng   \n",
       "1   19895768      Không hài lòng   \n",
       "2    5445783      Không hài lòng   \n",
       "3   19390511  Rất không hài lòng   \n",
       "4   15466659  Rất không hài lòng   \n",
       "\n",
       "                                             content  rating  created_at  \\\n",
       "0  Sản phẩm ko phù hợp với giá tiền, chất lượng v...       2  1657895606   \n",
       "1  Sài được 2 tháng nó khóa máy phải ra trung tâm...       2  1717804644   \n",
       "2  Mình rate 2 sao vì shipper rất thân thiện.\\nCh...       2  1604336092   \n",
       "3                   Dá quá đắt nghe không hay quá tệ       1  1689700355   \n",
       "4  Mua con chuột về kết nối ko được chán vc ***. ...       1  1647506541   \n",
       "\n",
       "        customer_name  product_id  is_verified  number_of_likes  \\\n",
       "0             Nhan Vo    56889347        False                0   \n",
       "1  Nguyễn Thanh Quang   272328188        False                0   \n",
       "2    Trương Bảo Khánh    23362701        False                0   \n",
       "3       Lưu Xuân Tuân   155780905        False                0   \n",
       "4            Cris Ngo    56606433        False                0   \n",
       "\n",
       "   number_of_replies sentiment  \n",
       "0                  0  negative  \n",
       "1                  0  negative  \n",
       "2                  0  negative  \n",
       "3                  0  negative  \n",
       "4                  0  negative  "
      ]
     },
     "execution_count": 25,
     "metadata": {},
     "output_type": "execute_result"
    }
   ],
   "source": [
    "df.head()"
   ]
  },
  {
   "cell_type": "code",
   "execution_count": 26,
   "metadata": {},
   "outputs": [
    {
     "name": "stdout",
     "output_type": "stream",
     "text": [
      "sentiment\n",
      "negative    7590\n",
      "positive    7044\n",
      "neutral     5443\n",
      "Name: count, dtype: int64\n"
     ]
    }
   ],
   "source": [
    "sentiment_counts = df['sentiment'].value_counts()\n",
    "print(sentiment_counts)"
   ]
  },
  {
   "cell_type": "code",
   "execution_count": 27,
   "metadata": {},
   "outputs": [
    {
     "data": {
      "text/plain": [
       "(20077, 11)"
      ]
     },
     "execution_count": 27,
     "metadata": {},
     "output_type": "execute_result"
    }
   ],
   "source": [
    "df.shape"
   ]
  }
 ],
 "metadata": {
  "kernelspec": {
   "display_name": "venv",
   "language": "python",
   "name": "python3"
  },
  "language_info": {
   "codemirror_mode": {
    "name": "ipython",
    "version": 3
   },
   "file_extension": ".py",
   "mimetype": "text/x-python",
   "name": "python",
   "nbconvert_exporter": "python",
   "pygments_lexer": "ipython3",
   "version": "3.11.9"
  }
 },
 "nbformat": 4,
 "nbformat_minor": 2
}
